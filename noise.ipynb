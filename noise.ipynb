{
 "cells": [
  {
   "cell_type": "code",
   "execution_count": 1,
   "metadata": {},
   "outputs": [],
   "source": [
    "import cv2\n",
    "import numpy as np\n",
    "import random\n",
    "\n",
    "\n"
   ]
  },
  {
   "cell_type": "code",
   "execution_count": 2,
   "metadata": {},
   "outputs": [],
   "source": [
    "def add_gaussian_noise(image, coords, mean=0, var=0.01):\n",
    "    x, y, w, h = coords\n",
    "    sigma = var**0.5\n",
    "    noisy_part = image[y:y+h, x:x+w] #takes the noisy part\n",
    "    gauss = np.random.normal(mean, sigma, noisy_part.shape).astype('float32')\n",
    "    noisy_part = noisy_part + gauss #add noise \n",
    "    noisy_part = np.clip(noisy_part, 0, 255)\n",
    "    image[y:y+h, x:x+w] = noisy_part\n",
    "    return image\n"
   ]
  },
  {
   "cell_type": "code",
   "execution_count": 4,
   "metadata": {},
   "outputs": [],
   "source": [
    "\n",
    "def add_salt_and_pepper_noise(image, coords, salt_prob=0.05, pepper_prob=0.05):\n",
    "    x, y, w, h = coords\n",
    "    noisy_part = image[y:y+h, x:x+w]\n",
    "    total_pixels = w * h\n",
    "    num_salt = np.ceil(salt_prob * total_pixels)\n",
    "    num_pepper = np.ceil(pepper_prob * total_pixels)\n",
    "\n",
    "    # Add salt noise (white pixels)\n",
    "    for _ in range(int(num_salt)):\n",
    "        i = random.randint(0, h-1)\n",
    "        j = random.randint(0, w-1)\n",
    "        noisy_part[i, j] = 255\n",
    "\n",
    "    # Add pepper noise (black pixels)\n",
    "    for _ in range(int(num_pepper)):\n",
    "        i = random.randint(0, h-1)\n",
    "        j = random.randint(0, w-1)\n",
    "        noisy_part[i, j] = 0\n",
    "\n",
    "    image[y:y+h, x:x+w] = noisy_part\n",
    "    return image\n",
    "\n"
   ]
  },
  {
   "cell_type": "code",
   "execution_count": 5,
   "metadata": {},
   "outputs": [],
   "source": [
    "def main():\n",
    "    # Load an example image\n",
    "    image = cv2.imread('example.jpg')\n",
    "    coords = (50, 50, 100, 100)  # Coordinates for the region to be noised (x, y, width, height)\n",
    "\n",
    "    # Add Gaussian noise\n",
    "    image_gaussian_noise = add_gaussian_noise(image.copy(), coords)\n",
    "    cv2.imwrite('image_with_gaussian_noise.jpg', image_gaussian_noise)\n",
    "\n",
    "    # Add Salt and Pepper noise\n",
    "    image_salt_pepper_noise = add_salt_and_pepper_noise(image.copy(), coords)\n",
    "    cv2.imwrite('image_with_salt_and_pepper_noise.jpg', image_salt_pepper_noise)\n",
    "\n",
    "if __name__ == \"__main__\":\n",
    "    main()"
   ]
  },
  {
   "cell_type": "code",
   "execution_count": null,
   "metadata": {},
   "outputs": [],
   "source": []
  }
 ],
 "metadata": {
  "interpreter": {
   "hash": "916dbcbb3f70747c44a77c7bcd40155683ae19c65e1c03b4aa3499c5328201f1"
  },
  "kernelspec": {
   "display_name": "Python 3.8.10 64-bit",
   "language": "python",
   "name": "python3"
  },
  "language_info": {
   "codemirror_mode": {
    "name": "ipython",
    "version": 3
   },
   "file_extension": ".py",
   "mimetype": "text/x-python",
   "name": "python",
   "nbconvert_exporter": "python",
   "pygments_lexer": "ipython3",
   "version": "3.8.10"
  },
  "orig_nbformat": 4
 },
 "nbformat": 4,
 "nbformat_minor": 2
}
