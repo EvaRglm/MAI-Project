{
  "cells": [
    {
      "cell_type": "markdown",
      "metadata": {
        "id": "1fEYOba8qrRx"
      },
      "source": [
        "# Add objects to images"
      ]
    },
    {
      "cell_type": "code",
      "execution_count": 1,
      "metadata": {
        "colab": {
          "base_uri": "https://localhost:8080/"
        },
        "id": "uJgiuZUq4ykr",
        "outputId": "029150b2-2c2d-4586-d292-9cc119db17ea"
      },
      "outputs": [
        {
          "name": "stdout",
          "output_type": "stream",
          "text": [
            "Requirement already satisfied: opencv-python-headless in /system/conda/miniconda3/envs/cloudspace/lib/python3.9/site-packages (4.10.0.84)\n",
            "Requirement already satisfied: matplotlib in /system/conda/miniconda3/envs/cloudspace/lib/python3.9/site-packages (3.8.4)\n",
            "Requirement already satisfied: numpy>=1.17.0 in /system/conda/miniconda3/envs/cloudspace/lib/python3.9/site-packages (from opencv-python-headless) (1.24.3)\n",
            "Requirement already satisfied: contourpy>=1.0.1 in /system/conda/miniconda3/envs/cloudspace/lib/python3.9/site-packages (from matplotlib) (1.2.0)\n",
            "Requirement already satisfied: cycler>=0.10 in /system/conda/miniconda3/envs/cloudspace/lib/python3.9/site-packages (from matplotlib) (0.11.0)\n",
            "Requirement already satisfied: fonttools>=4.22.0 in /system/conda/miniconda3/envs/cloudspace/lib/python3.9/site-packages (from matplotlib) (4.51.0)\n",
            "Requirement already satisfied: kiwisolver>=1.3.1 in /system/conda/miniconda3/envs/cloudspace/lib/python3.9/site-packages (from matplotlib) (1.4.4)\n",
            "Requirement already satisfied: packaging>=20.0 in /system/conda/miniconda3/envs/cloudspace/lib/python3.9/site-packages (from matplotlib) (24.1)\n",
            "Requirement already satisfied: pillow>=8 in /system/conda/miniconda3/envs/cloudspace/lib/python3.9/site-packages (from matplotlib) (10.3.0)\n",
            "Requirement already satisfied: pyparsing>=2.3.1 in /system/conda/miniconda3/envs/cloudspace/lib/python3.9/site-packages (from matplotlib) (3.0.9)\n",
            "Requirement already satisfied: python-dateutil>=2.7 in /system/conda/miniconda3/envs/cloudspace/lib/python3.9/site-packages (from matplotlib) (2.9.0)\n",
            "Requirement already satisfied: importlib-resources>=3.2.0 in /system/conda/miniconda3/envs/cloudspace/lib/python3.9/site-packages (from matplotlib) (6.1.1)\n",
            "Requirement already satisfied: zipp>=3.1.0 in /system/conda/miniconda3/envs/cloudspace/lib/python3.9/site-packages (from importlib-resources>=3.2.0->matplotlib) (3.19.2)\n",
            "Requirement already satisfied: six>=1.5 in /system/conda/miniconda3/envs/cloudspace/lib/python3.9/site-packages (from python-dateutil>=2.7->matplotlib) (1.16.0)\n",
            "Note: you may need to restart the kernel to use updated packages.\n"
          ]
        }
      ],
      "source": [
        "pip install opencv-python-headless matplotlib\n"
      ]
    },
    {
      "cell_type": "code",
      "execution_count": 2,
      "metadata": {
        "colab": {
          "base_uri": "https://localhost:8080/",
          "height": 444
        },
        "id": "ArZT8_fn4uzS",
        "outputId": "6d820a13-3111-492b-ffd4-72da72a78acd"
      },
      "outputs": [],
      "source": [
        "import cv2\n",
        "import numpy as np\n",
        "import xml.etree.ElementTree as ET\n",
        "import matplotlib.pyplot as plt\n",
        "import os\n",
        "import re\n",
        "import random\n",
        "import sys\n",
        "sys.path.append(os.path.abspath('src'))\n",
        "import data_preparation as dp"
      ]
    },
    {
      "cell_type": "code",
      "execution_count": 3,
      "metadata": {
        "id": "R8LPob8orjOP"
      },
      "outputs": [],
      "source": [
        "# Load the image\n",
        "image_path = './IMAGES_ATTACK/10_images_original/'\n",
        "image = cv2.imread(image_path)\n",
        "\n",
        "# Parse the XML file\n",
        "xml_path = './PREDICTIONS_ATTACK/10_images_original/Annotations/'\n",
        "\n",
        "image_folder = image_path\n",
        "sentence_folder = './PREDICTIONS_ATTACK/10_images_original/Sentences/'\n",
        "annotation_folder = xml_path\n",
        "output_folder = \"./IMAGES_ATTACK/add/10_images/\"\n",
        "object_images_folder = \"./OBJECT_IMAGES/\""
      ]
    },
    {
      "cell_type": "code",
      "execution_count": 14,
      "metadata": {
        "id": "fABrrbc1t4ge"
      },
      "outputs": [
        {
          "name": "stdout",
          "output_type": "stream",
          "text": [
            "['48220', '48220', '48220', '48220', '48220']\n",
            "[(158, 46, 300, 283)]\n",
            "['100072', '100072', '100072', '100072', '100072', '100072']\n",
            "[(249, 84, 378, 260), (47, 95, 166, 290), (122, 134, 240, 304)]\n",
            "['142054', '142054', '142054', '142059', '142054', '142054']\n",
            "[(211, 125, 283, 319), (80, 128, 169, 348), (296, 106, 359, 320), (347, 219, 390, 311), (443, 176, 499, 311), (324, 222, 389, 311)]\n",
            "['144551', '144551', '144551', '144552', '144551', '144551']\n",
            "none\n",
            "[(128, 66, 252, 328), (238, 58, 354, 318)]\n",
            "['147590', '147590', '147593', '147590', '147590', '147590']\n",
            "[(4, 125, 229, 431), (62, 154, 110, 278), (296, 167, 327, 290), (235, 159, 289, 303), (12, 165, 70, 301), (1, 152, 27, 270), (95, 149, 129, 241)]\n",
            "['188511', '188510', '188510', '188510', '188511']\n",
            "[(175, 57, 324, 334), (2, 82, 103, 158)]\n",
            "['211901', '211901', '211904', '211901', '211904', '211906', '211901', '211904', '211901', '211908']\n",
            "[(95, 151, 259, 493), (328, 136, 423, 455), (66, 266, 119, 289), (211, 255, 266, 273), (1, 159, 72, 498), (258, 128, 337, 378), (54, 163, 114, 364), (129, 145, 176, 270), (216, 136, 269, 359), (450, 141, 494, 229), (219, 136, 240, 188)]\n",
            "['223579', '223580', '223580', '223579', '223580', '223579']\n",
            "[(161, 62, 355, 333), (290, 33, 438, 333), (382, 47, 482, 333), (28, 50, 151, 333), (410, 21, 500, 333)]\n",
            "['230142', '230143', '230142', '230143', '230142', '230143', '230142', '230143', '230142']\n",
            "[(167, 28, 336, 301), (4, 97, 191, 212), (274, 140, 447, 302), (319, 139, 499, 303)]\n",
            "['277509', '277509', '277509', '277509', '277519', '277509', '277509', '277509', '277509', '277509']\n",
            "[(91, 52, 246, 290), (219, 104, 443, 269)]\n"
          ]
        }
      ],
      "source": [
        "# Get the bounding box with the \"person\" object which has the the maximum area\n",
        "bounding_boxes_to_add = dp.process_images(image_folder, sentence_folder, annotation_folder, output_folder)"
      ]
    },
    {
      "cell_type": "code",
      "execution_count": 21,
      "metadata": {
        "id": "dQq85bwCuti1"
      },
      "outputs": [],
      "source": [
        "# function to insert the image of an object inside the bounding box\n",
        "def insert_object(image, object_images_folder, bbox):\n",
        "    object_img = cv2.imread(object_images_folder, cv2.IMREAD_UNCHANGED)\n",
        "    if object_img is None:\n",
        "        print(f\"Error: Image {object_images_folder} not found.\")\n",
        "        return\n",
        "\n",
        "    xmin, ymin, xmax, ymax = bbox\n",
        "    bbox_width = xmax - xmin\n",
        "    bbox_height = ymax - ymin\n",
        "    insert_width = bbox_width // 2  # Cover at most 1/2 of the bounding box width\n",
        "    insert_height = bbox_height // 5  # Cover at most 1/5 of the bounding box height\n",
        "\n",
        "    # Resize insert_img to fit the bounding box 1/2 width and 1/5 height\n",
        "    object_img_resized = cv2.resize(object_img, (insert_width, insert_height))\n",
        "\n",
        "    # Insert the resized image into the topmost part of the bounding box\n",
        "    insert_x_start = xmin + (bbox_width - insert_width) // 2\n",
        "    # Handle alpha channel if present\n",
        "    if object_img_resized.shape[2] == 4:\n",
        "        alpha_s = object_img_resized[:, :, 3] / 255.0\n",
        "        alpha_l = 1.0 - alpha_s\n",
        "\n",
        "        for c in range(0, 3):\n",
        "            image[ymin:ymin+insert_height, insert_x_start:insert_x_start+insert_width, c] = (alpha_s * object_img_resized[:, :, c] +\n",
        "                                                                                             alpha_l * image[ymin:ymin+insert_height, insert_x_start:insert_x_start+insert_width, c])\n",
        "    else:\n",
        "        image[ymin:ymin+insert_height, insert_x_start:insert_x_start+insert_width] = object_img_resized"
      ]
    },
    {
      "cell_type": "code",
      "execution_count": 22,
      "metadata": {
        "id": "xQvHnIZVyZ5D"
      },
      "outputs": [],
      "source": [
        "def process_images_with_inserts(image_folder, sentence_folder, annotation_folder, output_folder, insert_images_folder):\n",
        "    bounding_boxes_data = dp.process_images(image_folder, sentence_folder, annotation_folder, output_folder)\n",
        "    \n",
        "    for image_path, bboxes, image_id in bounding_boxes_data:\n",
        "        insert_images = [os.path.join(insert_images_folder, f) for f in os.listdir(insert_images_folder) if f.endswith('.png')]\n",
        "        \n",
        "        if not insert_images:\n",
        "            print(f\"No insert images found in folder: {insert_images_folder}\")\n",
        "            continue\n",
        "        \n",
        "        insert_image_path = random.choice(insert_images)\n",
        "\n",
        "        # Draw bounding boxes and insert random image\n",
        "        image = cv2.imread(image_path)\n",
        "        if image is None:\n",
        "            print(f\"Error: Image {image_path} not found.\")\n",
        "            continue\n",
        "        \n",
        "        max_bbox = max(bboxes, key=dp.calculate_area)\n",
        "        insert_object(image, insert_image_path, max_bbox)\n",
        "\n",
        "        for bbox in bboxes:\n",
        "            xmin, ymin, xmax, ymax = bbox\n",
        "            color = (0, 255, 0)  # Green\n",
        "            thickness = 2\n",
        "            cv2.rectangle(image, (xmin, ymin), (xmax, ymax), color, thickness)\n",
        "\n",
        "        output_filename = os.path.join(output_folder, f'output_{image_id}.jpg')\n",
        "        cv2.imwrite(output_filename, image)\n",
        "        print(f\"Processed {image_id} and saved as {output_filename}\")\n"
      ]
    },
    {
      "cell_type": "code",
      "execution_count": 24,
      "metadata": {
        "id": "XfoXP-Rpzsw1"
      },
      "outputs": [
        {
          "name": "stdout",
          "output_type": "stream",
          "text": [
            "['48220', '48220', '48220', '48220', '48220']\n",
            "[(158, 46, 300, 283)]\n",
            "['100072', '100072', '100072', '100072', '100072', '100072']\n",
            "[(249, 84, 378, 260), (47, 95, 166, 290), (122, 134, 240, 304)]\n",
            "['142054', '142054', '142054', '142059', '142054', '142054']\n",
            "[(211, 125, 283, 319), (80, 128, 169, 348), (296, 106, 359, 320), (347, 219, 390, 311), (443, 176, 499, 311), (324, 222, 389, 311)]\n",
            "['144551', '144551', '144551', '144552', '144551', '144551']\n",
            "none\n",
            "[(128, 66, 252, 328), (238, 58, 354, 318)]\n",
            "['147590', '147590', '147593', '147590', '147590', '147590']\n",
            "[(4, 125, 229, 431), (62, 154, 110, 278), (296, 167, 327, 290), (235, 159, 289, 303), (12, 165, 70, 301), (1, 152, 27, 270), (95, 149, 129, 241)]\n",
            "['188511', '188510', '188510', '188510', '188511']\n",
            "[(175, 57, 324, 334), (2, 82, 103, 158)]\n",
            "['211901', '211901', '211904', '211901', '211904', '211906', '211901', '211904', '211901', '211908']\n",
            "[(95, 151, 259, 493), (328, 136, 423, 455), (66, 266, 119, 289), (211, 255, 266, 273), (1, 159, 72, 498), (258, 128, 337, 378), (54, 163, 114, 364), (129, 145, 176, 270), (216, 136, 269, 359), (450, 141, 494, 229), (219, 136, 240, 188)]\n",
            "['223579', '223580', '223580', '223579', '223580', '223579']\n",
            "[(161, 62, 355, 333), (290, 33, 438, 333), (382, 47, 482, 333), (28, 50, 151, 333), (410, 21, 500, 333)]\n",
            "['230142', '230143', '230142', '230143', '230142', '230143', '230142', '230143', '230142']\n",
            "[(167, 28, 336, 301), (4, 97, 191, 212), (274, 140, 447, 302), (319, 139, 499, 303)]\n",
            "['277509', '277509', '277509', '277509', '277519', '277509', '277509', '277509', '277509', '277509']\n",
            "[(91, 52, 246, 290), (219, 104, 443, 269)]\n"
          ]
        },
        {
          "ename": "TypeError",
          "evalue": "'NoneType' object is not iterable",
          "output_type": "error",
          "traceback": [
            "\u001b[0;31m---------------------------------------------------------------------------\u001b[0m",
            "\u001b[0;31mTypeError\u001b[0m                                 Traceback (most recent call last)",
            "Cell \u001b[0;32mIn[24], line 1\u001b[0m\n\u001b[0;32m----> 1\u001b[0m image_with_object \u001b[38;5;241m=\u001b[39m \u001b[43mprocess_images_with_inserts\u001b[49m\u001b[43m(\u001b[49m\u001b[43mimage_folder\u001b[49m\u001b[43m,\u001b[49m\u001b[43m \u001b[49m\u001b[43msentence_folder\u001b[49m\u001b[43m,\u001b[49m\u001b[43m \u001b[49m\u001b[43mannotation_folder\u001b[49m\u001b[43m,\u001b[49m\u001b[43m \u001b[49m\u001b[43moutput_folder\u001b[49m\u001b[43m,\u001b[49m\u001b[43m \u001b[49m\u001b[43mobject_images_folder\u001b[49m\u001b[43m)\u001b[49m\n",
            "Cell \u001b[0;32mIn[22], line 4\u001b[0m, in \u001b[0;36mprocess_images_with_inserts\u001b[0;34m(image_folder, sentence_folder, annotation_folder, output_folder, insert_images_folder)\u001b[0m\n\u001b[1;32m      1\u001b[0m \u001b[38;5;28;01mdef\u001b[39;00m \u001b[38;5;21mprocess_images_with_inserts\u001b[39m(image_folder, sentence_folder, annotation_folder, output_folder, insert_images_folder):\n\u001b[1;32m      2\u001b[0m     bounding_boxes_data \u001b[38;5;241m=\u001b[39m dp\u001b[38;5;241m.\u001b[39mprocess_images(image_folder, sentence_folder, annotation_folder, output_folder)\n\u001b[0;32m----> 4\u001b[0m     \u001b[38;5;28;01mfor\u001b[39;00m image_path, bboxes, image_id \u001b[38;5;129;01min\u001b[39;00m bounding_boxes_data:\n\u001b[1;32m      5\u001b[0m         insert_images \u001b[38;5;241m=\u001b[39m [os\u001b[38;5;241m.\u001b[39mpath\u001b[38;5;241m.\u001b[39mjoin(insert_images_folder, f) \u001b[38;5;28;01mfor\u001b[39;00m f \u001b[38;5;129;01min\u001b[39;00m os\u001b[38;5;241m.\u001b[39mlistdir(insert_images_folder) \u001b[38;5;28;01mif\u001b[39;00m f\u001b[38;5;241m.\u001b[39mendswith(\u001b[38;5;124m'\u001b[39m\u001b[38;5;124m.png\u001b[39m\u001b[38;5;124m'\u001b[39m)]\n\u001b[1;32m      7\u001b[0m         \u001b[38;5;28;01mif\u001b[39;00m \u001b[38;5;129;01mnot\u001b[39;00m insert_images:\n",
            "\u001b[0;31mTypeError\u001b[0m: 'NoneType' object is not iterable"
          ]
        }
      ],
      "source": [
        "image_with_object = process_images_with_inserts(image_folder, sentence_folder, annotation_folder, output_folder, object_images_folder)"
      ]
    },
    {
      "cell_type": "code",
      "execution_count": 25,
      "metadata": {
        "id": "cJrQeEibxnn0"
      },
      "outputs": [
        {
          "ename": "error",
          "evalue": "OpenCV(4.10.0) /io/opencv/modules/imgproc/src/color.cpp:196: error: (-215:Assertion failed) !_src.empty() in function 'cvtColor'\n",
          "output_type": "error",
          "traceback": [
            "\u001b[0;31m---------------------------------------------------------------------------\u001b[0m",
            "\u001b[0;31merror\u001b[0m                                     Traceback (most recent call last)",
            "Cell \u001b[0;32mIn[25], line 5\u001b[0m\n\u001b[1;32m      3\u001b[0m plt\u001b[38;5;241m.\u001b[39msubplot(\u001b[38;5;241m1\u001b[39m, \u001b[38;5;241m2\u001b[39m, \u001b[38;5;241m1\u001b[39m)\n\u001b[1;32m      4\u001b[0m plt\u001b[38;5;241m.\u001b[39mtitle(\u001b[38;5;124m'\u001b[39m\u001b[38;5;124mOriginal Image\u001b[39m\u001b[38;5;124m'\u001b[39m)\n\u001b[0;32m----> 5\u001b[0m plt\u001b[38;5;241m.\u001b[39mimshow(\u001b[43mcv2\u001b[49m\u001b[38;5;241;43m.\u001b[39;49m\u001b[43mcvtColor\u001b[49m\u001b[43m(\u001b[49m\u001b[43mimage\u001b[49m\u001b[43m,\u001b[49m\u001b[43m \u001b[49m\u001b[43mcv2\u001b[49m\u001b[38;5;241;43m.\u001b[39;49m\u001b[43mCOLOR_BGR2RGB\u001b[49m\u001b[43m)\u001b[49m)\n\u001b[1;32m      6\u001b[0m plt\u001b[38;5;241m.\u001b[39maxis(\u001b[38;5;124m'\u001b[39m\u001b[38;5;124moff\u001b[39m\u001b[38;5;124m'\u001b[39m)\n\u001b[1;32m      8\u001b[0m plt\u001b[38;5;241m.\u001b[39msubplot(\u001b[38;5;241m1\u001b[39m, \u001b[38;5;241m2\u001b[39m, \u001b[38;5;241m2\u001b[39m)\n",
            "\u001b[0;31merror\u001b[0m: OpenCV(4.10.0) /io/opencv/modules/imgproc/src/color.cpp:196: error: (-215:Assertion failed) !_src.empty() in function 'cvtColor'\n"
          ]
        },
        {
          "data": {
            "image/png": "[encoded data removed]",
            "text/plain": [
              "<Figure size 1000x500 with 1 Axes>"
            ]
          },
          "metadata": {},
          "output_type": "display_data"
        }
      ],
      "source": [
        "# Visualizing the original image and the image with added objects\n",
        "plt.figure(figsize=(10, 5))\n",
        "plt.subplot(1, 2, 1)\n",
        "plt.title('Original Image')\n",
        "plt.imshow(cv2.cvtColor(image, cv2.COLOR_BGR2RGB))\n",
        "plt.axis('off')\n",
        "\n",
        "plt.subplot(1, 2, 2)\n",
        "plt.title('Image with object added')\n",
        "plt.imshow(cv2.cvtColor(image_with_object, cv2.COLOR_BGR2RGB))\n",
        "plt.axis('off')\n",
        "\n",
        "plt.show()"
      ]
    },
    {
      "cell_type": "code",
      "execution_count": 26,
      "metadata": {
        "colab": {
          "base_uri": "https://localhost:8080/",
          "height": 444
        },
        "id": "wNCXEBhylqk6",
        "outputId": "9e3a2570-8d8f-4a63-8896-b59a8c990dda"
      },
      "outputs": [
        {
          "ename": "AttributeError",
          "evalue": "'NoneType' object has no attribute 'copy'",
          "output_type": "error",
          "traceback": [
            "\u001b[0;31m---------------------------------------------------------------------------\u001b[0m",
            "\u001b[0;31mAttributeError\u001b[0m                            Traceback (most recent call last)",
            "Cell \u001b[0;32mIn[26], line 8\u001b[0m\n\u001b[1;32m      5\u001b[0m         cv2\u001b[38;5;241m.\u001b[39mputText(image, name, (xmin, ymin\u001b[38;5;241m-\u001b[39m\u001b[38;5;241m10\u001b[39m), cv2\u001b[38;5;241m.\u001b[39mFONT_HERSHEY_SIMPLEX, \u001b[38;5;241m0.9\u001b[39m, color, \u001b[38;5;241m2\u001b[39m)\n\u001b[1;32m      6\u001b[0m     \u001b[38;5;28;01mreturn\u001b[39;00m image\n\u001b[0;32m----> 8\u001b[0m original_with_boxes \u001b[38;5;241m=\u001b[39m draw_bounding_boxes(\u001b[43mimage\u001b[49m\u001b[38;5;241;43m.\u001b[39;49m\u001b[43mcopy\u001b[49m(), bounding_boxes)\n\u001b[1;32m      9\u001b[0m objects_added_with_boxes \u001b[38;5;241m=\u001b[39m draw_bounding_boxes(image_with_object\u001b[38;5;241m.\u001b[39mcopy(), [box \u001b[38;5;28;01mfor\u001b[39;00m box \u001b[38;5;129;01min\u001b[39;00m bounding_boxes \u001b[38;5;28;01mif\u001b[39;00m box \u001b[38;5;129;01mnot\u001b[39;00m \u001b[38;5;129;01min\u001b[39;00m bounding_boxes_to_add])\n\u001b[1;32m     11\u001b[0m plt\u001b[38;5;241m.\u001b[39mfigure(figsize\u001b[38;5;241m=\u001b[39m(\u001b[38;5;241m10\u001b[39m, \u001b[38;5;241m5\u001b[39m))\n",
            "\u001b[0;31mAttributeError\u001b[0m: 'NoneType' object has no attribute 'copy'"
          ]
        }
      ],
      "source": [
        "# Visualize the original image and the images with added objects with bounding boxes\n",
        "def draw_bounding_boxes(image, bounding_boxes, color=(255, 0, 0)):\n",
        "    for (xmin, ymin, xmax, ymax, name) in bounding_boxes:\n",
        "        cv2.rectangle(image, (xmin, ymin), (xmax, ymax), color, 2)\n",
        "        cv2.putText(image, name, (xmin, ymin-10), cv2.FONT_HERSHEY_SIMPLEX, 0.9, color, 2)\n",
        "    return image\n",
        "\n",
        "original_with_boxes = draw_bounding_boxes(image.copy(), bounding_boxes)\n",
        "objects_added_with_boxes = draw_bounding_boxes(image_with_object.copy(), [box for box in bounding_boxes if box not in bounding_boxes_to_add])\n",
        "\n",
        "plt.figure(figsize=(10, 5))\n",
        "plt.subplot(1, 2, 1)\n",
        "plt.title('Original Image with Bounding Boxes')\n",
        "plt.imshow(cv2.cvtColor(original_with_boxes, cv2.COLOR_BGR2RGB))\n",
        "plt.axis('off')\n",
        "\n",
        "plt.subplot(1, 2, 2)\n",
        "plt.title('Image with added objects with Bounding Boxes')\n",
        "plt.imshow(cv2.cvtColor(objects_added_with_boxes, cv2.COLOR_BGR2RGB))\n",
        "plt.axis('off')\n",
        "\n",
        "plt.show()\n",
        "\n"
      ]
    },
    {
      "cell_type": "code",
      "execution_count": 27,
      "metadata": {
        "id": "ERCLPnsp9oDX"
      },
      "outputs": [
        {
          "ename": "NameError",
          "evalue": "name 'image_id' is not defined",
          "output_type": "error",
          "traceback": [
            "\u001b[0;31m---------------------------------------------------------------------------\u001b[0m",
            "\u001b[0;31mNameError\u001b[0m                                 Traceback (most recent call last)",
            "Cell \u001b[0;32mIn[27], line 2\u001b[0m\n\u001b[1;32m      1\u001b[0m \u001b[38;5;66;03m# Save the image with added objects and bounding boxes\u001b[39;00m\n\u001b[0;32m----> 2\u001b[0m output_filename \u001b[38;5;241m=\u001b[39m os\u001b[38;5;241m.\u001b[39mpath\u001b[38;5;241m.\u001b[39mjoin(output_folder, \u001b[38;5;124mf\u001b[39m\u001b[38;5;124m'\u001b[39m\u001b[38;5;124moutput_\u001b[39m\u001b[38;5;132;01m{\u001b[39;00mimage_id\u001b[38;5;132;01m}\u001b[39;00m\u001b[38;5;124m.jpg\u001b[39m\u001b[38;5;124m'\u001b[39m)\n\u001b[1;32m      3\u001b[0m cv2\u001b[38;5;241m.\u001b[39mimwrite(output_filename, objects_added_with_boxes)\n\u001b[1;32m      4\u001b[0m \u001b[38;5;28mprint\u001b[39m(\u001b[38;5;124mf\u001b[39m\u001b[38;5;124m\"\u001b[39m\u001b[38;5;124mProcessed \u001b[39m\u001b[38;5;132;01m{\u001b[39;00mimage_id\u001b[38;5;132;01m}\u001b[39;00m\u001b[38;5;124m and saved as \u001b[39m\u001b[38;5;132;01m{\u001b[39;00moutput_filename\u001b[38;5;132;01m}\u001b[39;00m\u001b[38;5;124m\"\u001b[39m)\n",
            "\u001b[0;31mNameError\u001b[0m: name 'image_id' is not defined"
          ]
        }
      ],
      "source": [
        "# Save the image with added objects and bounding boxes\n",
        "output_filename = os.path.join(output_folder, f'output_{image_id}.jpg')\n",
        "cv2.imwrite(output_filename, objects_added_with_boxes)\n",
        "print(f\"Processed {image_id} and saved as {output_filename}\")"
      ]
    }
  ],
  "metadata": {
    "colab": {
      "provenance": []
    },
    "kernelspec": {
      "display_name": "Python 3",
      "name": "python3"
    },
    "language_info": {
      "name": "python"
    }
  },
  "nbformat": 4,
  "nbformat_minor": 0
}
